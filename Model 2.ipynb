{
 "cells": [
  {
   "cell_type": "code",
   "execution_count": 55,
   "id": "cc66b95b-9df7-4ac4-95ca-b0559f6d3b33",
   "metadata": {},
   "outputs": [],
   "source": [
    "import tensorflow as tf\n",
    "from tensorflow.keras.preprocessing.image import ImageDataGenerator\n",
    "from tensorflow.keras import layers, models\n",
    "import os\n",
    "from sklearn.model_selection import train_test_split"
   ]
  },
  {
   "cell_type": "code",
   "execution_count": 56,
   "id": "1a8b21e0-1c7d-4868-a39d-fc96d1eb13c8",
   "metadata": {},
   "outputs": [],
   "source": [
    "# Define the new directories based on the restructured dataset\n",
    "base_dir = 'Dataset'"
   ]
  },
  {
   "cell_type": "code",
   "execution_count": 57,
   "id": "31591f9c-8d08-40fd-b303-02f71f106ae3",
   "metadata": {},
   "outputs": [],
   "source": [
    "# Image parameters\n",
    "IMG_HEIGHT = 150\n",
    "IMG_WIDTH = 150\n",
    "BATCH_SIZE = 32"
   ]
  },
  {
   "cell_type": "code",
   "execution_count": 64,
   "id": "54099205-9710-46d1-85d0-df9310fae9fb",
   "metadata": {},
   "outputs": [
    {
     "name": "stdout",
     "output_type": "stream",
     "text": [
      "Found 144 images belonging to 3 classes.\n",
      "Found 34 images belonging to 3 classes.\n"
     ]
    }
   ],
   "source": [
    "from tensorflow.keras.preprocessing.image import ImageDataGenerator\n",
    "\n",
    "# Training ImageDataGenerator (only rescaling to preserve clarity)\n",
    "train_datagen = ImageDataGenerator(\n",
    "    rescale=1./255,  # Normalizes pixel values to [0,1]\n",
    "    fill_mode='nearest'  # Ensure any padding preserves the image structure\n",
    ")\n",
    "\n",
    "# Validation ImageDataGenerator (only rescaling)\n",
    "val_datagen = ImageDataGenerator(\n",
    "    rescale=1./255  # Only rescaling for validation to keep original resolution\n",
    ")\n",
    "\n",
    "# Updated directories after splitting the dataset\n",
    "train_dir = 'Dataset_Train'\n",
    "val_dir = 'Dataset_Val'\n",
    "\n",
    "\n",
    "train_generator = train_datagen.flow_from_directory(\n",
    "    train_dir,\n",
    "    target_size=(IMG_HEIGHT, IMG_WIDTH),  # Set this to the desired image resolution\n",
    "    batch_size=BATCH_SIZE,\n",
    "    class_mode='categorical',  # Categorical mode for multi-class classification\n",
    "    shuffle=True,              # Shuffle the data\n",
    "    seed=42                    # Optional: set a seed for reproducibility\n",
    ")\n",
    "\n",
    "\n",
    "\n",
    "# Validation generator - loading images from the validation directory\n",
    "validation_generator = val_datagen.flow_from_directory(\n",
    "    val_dir,\n",
    "    target_size=(IMG_HEIGHT, IMG_WIDTH),\n",
    "    batch_size=BATCH_SIZE,\n",
    "    class_mode='categorical'  # 3 classes\n",
    ")\n"
   ]
  },
  {
   "cell_type": "code",
   "execution_count": 65,
   "id": "7425dc0e-d81c-47f2-9678-6375e33537e3",
   "metadata": {},
   "outputs": [
    {
     "name": "stdout",
     "output_type": "stream",
     "text": [
      "Number of classes: 3\n",
      "Number of images in generator: 144\n",
      "Classes: {'IR Patch': 0, 'Negative Patch': 1, 'Positive Patch': 2}\n"
     ]
    }
   ],
   "source": [
    "print(f\"Number of classes: {len(train_generator.class_indices)}\")\n",
    "print(f\"Number of images in generator: {train_generator.samples}\")\n",
    "print(f\"Classes: {train_generator.class_indices}\")\n"
   ]
  },
  {
   "cell_type": "code",
   "execution_count": 76,
   "id": "92075cb8-dcfe-4213-b1ec-173890c8642e",
   "metadata": {},
   "outputs": [
    {
     "name": "stdout",
     "output_type": "stream",
     "text": [
      "{0: 35, 1: 49, 2: 60}\n"
     ]
    }
   ],
   "source": [
    "unique_classes, counts = np.unique(train_generator.classes, return_counts=True)\n",
    "print(dict(zip(unique_classes, counts)))\n"
   ]
  },
  {
   "cell_type": "code",
   "execution_count": 77,
   "id": "619a1343-885a-448a-8d28-e3705f93f928",
   "metadata": {},
   "outputs": [
    {
     "name": "stdout",
     "output_type": "stream",
     "text": [
      "File paths loaded:\n",
      "['IR Patch\\\\DSC_0428.JPG', 'IR Patch\\\\DSC_0429.JPG', 'IR Patch\\\\DSC_2141.JPG', 'IR Patch\\\\DSC_6387.JPG', 'IR Patch\\\\DSC_6388.JPG', 'IR Patch\\\\DSC_6389.JPG', 'IR Patch\\\\IMG-20141127-WA0008.jpg', 'IR Patch\\\\IMG_20130919_112349.jpg', 'IR Patch\\\\IMG_20131014_104024.jpg', 'IR Patch\\\\IR with poisitve 2.jpeg', 'IR Patch\\\\IR with positive 1.jpeg', 'IR Patch\\\\Positive with IR  5.jpeg', 'IR Patch\\\\Positive with IR 2.JPG', 'IR Patch\\\\Positive with IR 3.jpg', 'IR Patch\\\\Positive with IR 4.jpeg', 'IR Patch\\\\Positive with IR.JPG', 'IR Patch\\\\WhatsApp Image 2023-09-28 at 20.20.53.jpeg', 'IR Patch\\\\WhatsApp Image 2024-09-05 at 08.39.32.jpeg', 'IR Patch\\\\WhatsApp Image 2024-09-05 at 08.39.37.jpeg', 'IR Patch\\\\WhatsApp Image 2024-09-05 at 08.39.47.jpeg', 'IR Patch\\\\photo1673669459.jpeg', 'IR Patch\\\\photo1673671286 (24).jpeg', 'IR Patch\\\\photo1676726355 (4).jpeg', 'IR Patch\\\\photo1676726355 (5).jpeg', 'IR Patch\\\\photo1682436241.jpeg', 'IR Patch\\\\photo1682828770 (7).jpeg', 'IR Patch\\\\photo1682828770 (9).jpeg', 'IR Patch\\\\photo1688046808 (2).jpeg', 'IR Patch\\\\photo1690207671 (3).jpeg', 'IR Patch\\\\photo_10_2024-04-07_11-30-46.jpg', 'IR Patch\\\\photo_2024-06-18_23-00-49.jpg', 'IR Patch\\\\photo_2024-06-18_23-09-55.jpg', 'IR Patch\\\\photo_2024-06-18_23-18-32.jpg', 'IR Patch\\\\photo_2024-06-18_23-32-30.jpg', 'IR Patch\\\\photo_3_2024-04-07_11-30-46.jpg', 'Negative Patch\\\\61d2b707-a18b-4984-936e-fe91c49d22d3.jpg', 'Negative Patch\\\\DSC_0157.JPG', 'Negative Patch\\\\DSC_0159.JPG', 'Negative Patch\\\\DSC_0160.JPG', 'Negative Patch\\\\DSC_0162.JPG', 'Negative Patch\\\\DSC_0187.JPG', 'Negative Patch\\\\DSC_0188.JPG', 'Negative Patch\\\\DSC_0189.JPG', 'Negative Patch\\\\DSC_0299.JPG', 'Negative Patch\\\\DSC_0300.JPG', 'Negative Patch\\\\DSC_0493.JPG', 'Negative Patch\\\\DSC_0532.JPG', 'Negative Patch\\\\DSC_0533.JPG', 'Negative Patch\\\\DSC_6510.JPG', 'Negative Patch\\\\IMG_20130919_103453.jpg', 'Negative Patch\\\\IMG_20131003_103019.jpg', 'Negative Patch\\\\IMG_20131014_104003.jpg', 'Negative Patch\\\\IMG_20240407_130410_228.jpg', 'Negative Patch\\\\WhatsApp Image 2023-09-28 at 18.04.21 (1).jpeg', 'Negative Patch\\\\WhatsApp Image 2023-09-28 at 18.04.21 (2).jpeg', 'Negative Patch\\\\WhatsApp Image 2023-09-28 at 18.31.51.jpeg', 'Negative Patch\\\\WhatsApp Image 2023-09-28 at 19.22.53.jpeg', 'Negative Patch\\\\WhatsApp Image 2023-09-28 at 19.23.27 (1).jpeg', 'Negative Patch\\\\WhatsApp Image 2024-09-05 at 08.39.31.jpeg', 'Negative Patch\\\\WhatsApp Image 2024-09-05 at 08.39.40.jpeg', 'Negative Patch\\\\WhatsApp Image 2024-09-05 at 08.39.41.jpeg', 'Negative Patch\\\\WhatsApp Image 2024-09-05 at 08.39.44.jpeg', 'Negative Patch\\\\photo1673658223.jpeg', 'Negative Patch\\\\photo1673658566.jpeg', 'Negative Patch\\\\photo1673659038 (30).jpeg', 'Negative Patch\\\\photo1674106051.jpeg', 'Negative Patch\\\\photo1688049539 (4).jpeg', 'Negative Patch\\\\photo1688050342 (3).jpeg', 'Negative Patch\\\\photo1688051629 (1).jpeg', 'Negative Patch\\\\photo1688085960 (3).jpeg', 'Negative Patch\\\\photo_10_2024-06-17_18-25-17.jpg', 'Negative Patch\\\\photo_11_2024-06-17_18-45-23.jpg', 'Negative Patch\\\\photo_12_2024-04-07_13-42-11.jpg', 'Negative Patch\\\\photo_14_2024-06-17_18-45-23.jpg', 'Negative Patch\\\\photo_16_2024-04-07_12-10-40.jpg', 'Negative Patch\\\\photo_18_2024-04-07_11-25-23.jpg', 'Negative Patch\\\\photo_1_2024-04-07_12-03-28.jpg', 'Negative Patch\\\\photo_2024-03-03_18-08-39.jpg', 'Negative Patch\\\\photo_2024-03-04_15-24-53.jpg', 'Negative Patch\\\\photo_2024-06-18_22-43-57.jpg', 'Negative Patch\\\\photo_2024-06-18_22-57-47.jpg', 'Negative Patch\\\\photo_2024-06-19_07-31-06.jpg', 'Negative Patch\\\\photo_23_2024-04-07_13-31-36.jpg', 'Negative Patch\\\\photo_27_2024-06-17_18-50-41.jpg', 'Positive Patch\\\\20140818_142345.jpg', 'Positive Patch\\\\20140818_142417.jpg', 'Positive Patch\\\\20140818_142433.jpg', 'Positive Patch\\\\20140820_143731.jpg', 'Positive Patch\\\\20141011_112221.jpg', 'Positive Patch\\\\20141011_112241.jpg', 'Positive Patch\\\\DSC_0021.JPG', 'Positive Patch\\\\DSC_0161.JPG', 'Positive Patch\\\\DSC_0195.JPG', 'Positive Patch\\\\DSC_0236.JPG', 'Positive Patch\\\\DSC_0237.JPG', 'Positive Patch\\\\DSC_1622.JPG', 'Positive Patch\\\\DSC_1686.JPG', 'Positive Patch\\\\DSC_6512.JPG', 'Positive Patch\\\\DSC_6515.JPG', 'Positive Patch\\\\DSC_6517.JPG', 'Positive Patch\\\\DSC_6834.JPG', 'Positive Patch\\\\DSC_6836.JPG', 'Positive Patch\\\\DSC_7162.JPG', 'Positive Patch\\\\DSC_7163.JPG', 'Positive Patch\\\\DSC_7179.JPG', 'Positive Patch\\\\DSC_8300.JPG', 'Positive Patch\\\\IMG-20131103-WA0006.jpg', 'Positive Patch\\\\P 1.jpg', 'Positive Patch\\\\P 10.JPG', 'Positive Patch\\\\P 11.JPG', 'Positive Patch\\\\P 12.jpg', 'Positive Patch\\\\P 13.jpg', 'Positive Patch\\\\P 14.jpg', 'Positive Patch\\\\P 16.jpg', 'Positive Patch\\\\P 3.JPG', 'Positive Patch\\\\P 4.JPG', 'Positive Patch\\\\P 5.JPG', 'Positive Patch\\\\P 6.JPG', 'Positive Patch\\\\P 7.JPG', 'Positive Patch\\\\P 8.JPG', 'Positive Patch\\\\P 9.JPG', 'Positive Patch\\\\Poly 1.jpeg', 'Positive Patch\\\\WhatsApp Image 2024-09-05 at 08.39.41 (1).jpeg', 'Positive Patch\\\\photo1673659929.jpeg', 'Positive Patch\\\\photo1673659940.jpeg', 'Positive Patch\\\\photo1673659952.jpeg', 'Positive Patch\\\\photo1688054093 (2).jpeg', 'Positive Patch\\\\photo_13_2024-06-17_18-59-50.jpg', 'Positive Patch\\\\photo_17_2024-04-07_12-45-37.jpg', 'Positive Patch\\\\photo_17_2024-06-17_17-55-38.jpg', 'Positive Patch\\\\photo_18_2024-04-07_13-36-40.jpg', 'Positive Patch\\\\photo_2023-09-28_17-21-29.jpg', 'Positive Patch\\\\photo_2024-03-04_10-14-09.jpg', 'Positive Patch\\\\photo_2024-03-04_10-14-12.jpg', 'Positive Patch\\\\photo_2024-06-18_23-14-30 (2).jpg', 'Positive Patch\\\\photo_2024-06-23_13-43-38.jpg', 'Positive Patch\\\\photo_21_2024-04-07_12-45-37.jpg', 'Positive Patch\\\\photo_22_2024-04-07_13-57-14.jpg', 'Positive Patch\\\\photo_5_2024-04-07_12-56-47.jpg', 'Positive Patch\\\\poly 3.jpg', 'Positive Patch\\\\poly 5.jpg', 'Positive Patch\\\\poly 6.jpg', 'Positive Patch\\\\poly 7.jpg', 'Positive Patch\\\\poly 8.jpg']\n"
     ]
    }
   ],
   "source": [
    "print(\"File paths loaded:\")\n",
    "print(train_generator.filenames)\n"
   ]
  },
  {
   "cell_type": "code",
   "execution_count": 78,
   "id": "b9caa54a-2c5d-407b-a144-163fde26bd8b",
   "metadata": {},
   "outputs": [
    {
     "name": "stdout",
     "output_type": "stream",
     "text": [
      "Detected class indices: {'IR Patch': 0, 'Negative Patch': 1, 'Positive Patch': 2}\n"
     ]
    }
   ],
   "source": [
    "# Check the new class indices to ensure all four are recognized\n",
    "print(\"Detected class indices:\", train_generator.class_indices)"
   ]
  },
  {
   "cell_type": "code",
   "execution_count": 79,
   "id": "2f091fda-7fbb-470b-a28b-2c090e561e25",
   "metadata": {},
   "outputs": [],
   "source": [
    "from tensorflow.keras import layers, models\n",
    "from tensorflow.keras.applications import ResNet50\n",
    "\n",
    "# Load the pre-trained ResNet50 model, excluding the fully connected layers at the top\n",
    "base_model = ResNet50(weights='imagenet', include_top=False, input_shape=(150, 150, 3))\n",
    "\n",
    "# Freeze the ResNet50 base model to retain pre-trained weights\n",
    "base_model.trainable = False  \n",
    "\n",
    "# Build the model\n",
    "model = models.Sequential([\n",
    "    base_model,  # Use ResNet50 as the feature extractor\n",
    "    layers.Flatten(),  # Flatten the output of the convolutional base\n",
    "    layers.Dense(512, activation='relu'),  # Add a fully connected layer\n",
    "    layers.Dropout(0.5),  # Add dropout to reduce overfitting\n",
    "    layers.Dense(3, activation='softmax')  # Output layer for 4 classes\n",
    "])\n",
    "\n",
    "\n",
    "model.add(tf.keras.layers.Dense(3, activation='softmax'))  # Update to 3 classes\n",
    "\n",
    "# Unfreeze the base model for fine-tuning\n",
    "base_model.trainable = True\n",
    "\n",
    "# Recompile with a lower learning rate for fine-tuning\n",
    "model.compile(optimizer=tf.keras.optimizers.Adam(learning_rate=1e-5), \n",
    "              loss='categorical_crossentropy', \n",
    "              metrics=['accuracy'])\n",
    "\n"
   ]
  },
  {
   "cell_type": "code",
   "execution_count": 80,
   "id": "82c8fb39-6c25-4f73-abe8-548a4da838fa",
   "metadata": {},
   "outputs": [
    {
     "name": "stdout",
     "output_type": "stream",
     "text": [
      "Number of classes: 3\n",
      "Number of images in generator: 144\n",
      "Batch 1/5, Images in batch: 32\n",
      "Batch 2/5, Images in batch: 32\n",
      "Batch 3/5, Images in batch: 32\n",
      "Batch 4/5, Images in batch: 32\n",
      "Batch 5/5, Images in batch: 16\n",
      "DataFrame shape: (144, 2)\n",
      "   class                   data\n",
      "0      2  IR Patch\\DSC_0428.JPG\n",
      "1      1  IR Patch\\DSC_0429.JPG\n",
      "2      2  IR Patch\\DSC_2141.JPG\n",
      "3      1  IR Patch\\DSC_6387.JPG\n",
      "4      0  IR Patch\\DSC_6388.JPG\n"
     ]
    }
   ],
   "source": [
    "import pandas as pd\n",
    "import numpy as np\n",
    "\n",
    "# Initialize lists to store file paths and classes\n",
    "file_paths = []\n",
    "classes = []\n",
    "\n",
    "# Reset the generator to ensure we can iterate over it\n",
    "train_generator.reset()\n",
    "\n",
    "# Print the number of classes and filenames to debug\n",
    "print(f\"Number of classes: {len(train_generator.class_indices)}\")\n",
    "print(f\"Number of images in generator: {len(train_generator.filenames)}\")\n",
    "\n",
    "# Get the total number of batches\n",
    "total_batches = len(train_generator)\n",
    "\n",
    "# Iterate through the train_generator\n",
    "for batch_index in range(total_batches):\n",
    "    batch_images, batch_labels = train_generator.next()  # Get the next batch\n",
    "    \n",
    "    # Print batch size for debugging\n",
    "    print(f\"Batch {batch_index + 1}/{total_batches}, Images in batch: {len(batch_labels)}\")\n",
    "\n",
    "    # Extract class indices from one-hot encoded labels\n",
    "    for i in range(len(batch_labels)):\n",
    "        class_index = np.argmax(batch_labels[i])  # Get class index\n",
    "        \n",
    "        # Use the filenames directly from the generator\n",
    "        # Ensure we don't exceed the length of filenames\n",
    "        if batch_index * train_generator.batch_size + i < len(train_generator.filenames):\n",
    "            file_path = train_generator.filenames[batch_index * train_generator.batch_size + i]\n",
    "            file_paths.append(file_path)\n",
    "            classes.append(class_index)\n",
    "\n",
    "# Create the DataFrame\n",
    "df = pd.DataFrame({'class': classes, 'data': file_paths})\n",
    "\n",
    "# Print the resulting DataFrame\n",
    "print(f\"DataFrame shape: {df.shape}\")\n",
    "print(df.head())\n",
    "\n",
    "# Example of filtering for the majority class\n",
    "if not df.empty:\n",
    "    df_majority = df[df['class'] == 2]  # Assume class 2 is the majority\n",
    "    df_minority_0 = df[df['class'] == 0]\n",
    "else:\n",
    "    print(\"The DataFrame is empty, no data to filter.\")\n"
   ]
  },
  {
   "cell_type": "code",
   "execution_count": 81,
   "id": "2304fa11-c9a6-40ff-baf9-5633d2e5d667",
   "metadata": {},
   "outputs": [
    {
     "name": "stdout",
     "output_type": "stream",
     "text": [
      "DataFrame shape: (144, 2)\n",
      "Unique classes and counts: class\n",
      "2    60\n",
      "1    49\n",
      "0    35\n",
      "Name: count, dtype: int64\n",
      "Upsampled DataFrame shape: (180, 2)\n",
      "Downsampled DataFrame shape: (119, 2)\n",
      "Class distribution after balancing:\n",
      "class\n",
      "1    49\n",
      "2    35\n",
      "0    35\n",
      "Name: count, dtype: int64\n"
     ]
    }
   ],
   "source": [
    "import pandas as pd\n",
    "from sklearn.utils import resample\n",
    "\n",
    "# Create a DataFrame from the train_generator\n",
    "df = pd.DataFrame({\n",
    "    'class': train_generator.classes,        # Class indices\n",
    "    'filename': train_generator.filenames     # Corresponding filenames\n",
    "})\n",
    "\n",
    "# Check the DataFrame\n",
    "print(\"DataFrame shape:\", df.shape)\n",
    "print(\"Unique classes and counts:\", df['class'].value_counts())\n",
    "\n",
    "# Filter the majority and minority classes\n",
    "df_majority = df[df['class'] == 2]  # Assuming class 2 is the majority (Positive)\n",
    "df_minority_0 = df[df['class'] == 0] # Class 0 (Negative)\n",
    "df_minority_1 = df[df['class'] == 1] # Class 1 (IR)\n",
    "\n",
    "# Upsample the minority classes\n",
    "df_minority_0_upsampled = resample(df_minority_0,\n",
    "                                   replace=True,     # sample with replacement\n",
    "                                   n_samples=len(df_majority), # Match the majority class\n",
    "                                   random_state=123) # reproducible results\n",
    "\n",
    "df_minority_1_upsampled = resample(df_minority_1,\n",
    "                                   replace=True,\n",
    "                                   n_samples=len(df_majority),\n",
    "                                   random_state=123)\n",
    "\n",
    "# Combine majority class with upsampled minority classes\n",
    "df_upsampled = pd.concat([df_majority, df_minority_0_upsampled, df_minority_1_upsampled])\n",
    "\n",
    "# Downsample the majority class to match the size of one of the minority classes\n",
    "df_majority_downsampled = resample(df_majority,\n",
    "                                    replace=False,  # sample without replacement\n",
    "                                    n_samples=min(len(df_minority_0), len(df_minority_1)), # Match the size of the smaller minority class\n",
    "                                    random_state=123) # reproducible results\n",
    "\n",
    "# Combine downsampled majority class with original minority classes\n",
    "df_downsampled = pd.concat([df_majority_downsampled, df_minority_0, df_minority_1])\n",
    "\n",
    "# Check class distribution\n",
    "print(\"Upsampled DataFrame shape:\", df_upsampled.shape)\n",
    "print(\"Downsampled DataFrame shape:\", df_downsampled.shape)\n",
    "print(\"Class distribution after balancing:\")\n",
    "print(df_downsampled['class'].value_counts())\n",
    "\n",
    "# Define class weights for training\n",
    "class_weights = {0: 1.0, 1: 1.5, 2: 0.75}  # Adjust these weights based on the counts\n"
   ]
  },
  {
   "cell_type": "code",
   "execution_count": 82,
   "id": "7360dc35-73cd-419c-9392-d6078f020317",
   "metadata": {},
   "outputs": [
    {
     "name": "stdout",
     "output_type": "stream",
     "text": [
      "Epoch 1/50\n",
      "5/5 [==============================] - 59s 7s/step - loss: 2.6651 - accuracy: 0.3403 - val_loss: 1.1445 - val_accuracy: 0.3529\n",
      "Epoch 2/50\n",
      "5/5 [==============================] - 30s 6s/step - loss: 2.3643 - accuracy: 0.5000 - val_loss: 1.1349 - val_accuracy: 0.3529\n",
      "Epoch 3/50\n",
      "5/5 [==============================] - 29s 5s/step - loss: 2.2108 - accuracy: 0.6389 - val_loss: 1.1273 - val_accuracy: 0.3529\n",
      "Epoch 4/50\n",
      "5/5 [==============================] - 31s 7s/step - loss: 2.1557 - accuracy: 0.7153 - val_loss: 1.1261 - val_accuracy: 0.3529\n",
      "Epoch 5/50\n",
      "5/5 [==============================] - 31s 6s/step - loss: 2.0828 - accuracy: 0.7708 - val_loss: 1.1288 - val_accuracy: 0.3529\n",
      "Epoch 6/50\n",
      "5/5 [==============================] - 28s 5s/step - loss: 2.0883 - accuracy: 0.7778 - val_loss: 1.1299 - val_accuracy: 0.3529\n",
      "Epoch 7/50\n",
      "5/5 [==============================] - 19s 3s/step - loss: 2.0174 - accuracy: 0.8472 - val_loss: 1.1289 - val_accuracy: 0.3529\n",
      "Epoch 8/50\n",
      "5/5 [==============================] - 17s 3s/step - loss: 1.9874 - accuracy: 0.8681 - val_loss: 1.1286 - val_accuracy: 0.3529\n",
      "Epoch 9/50\n",
      "5/5 [==============================] - 18s 3s/step - loss: 1.9885 - accuracy: 0.8958 - val_loss: 1.1310 - val_accuracy: 0.3529\n",
      "(32, 150, 150, 3)\n",
      "(32, 3)\n"
     ]
    }
   ],
   "source": [
    "# Class weights can be defined if needed (example values)\n",
    "class_weights_dict = {i: weight for i, weight in enumerate(class_weights)}\n",
    "\n",
    "# Define early stopping\n",
    "early_stopping = tf.keras.callbacks.EarlyStopping(monitor='val_loss', patience=5, restore_best_weights=True)\n",
    "\n",
    "# Define class weights based on your unique classes\n",
    "class_weights = {0: 1.0, 1: 2.0, 2: 3.0}  # Adjust weights if needed\n",
    "epochs = 50\n",
    "\n",
    "# Fit the model\n",
    "history = model.fit(\n",
    "    train_generator,\n",
    "    validation_data=validation_generator,\n",
    "    epochs=epochs,\n",
    "    callbacks=[early_stopping],\n",
    "    class_weight=class_weights  # Use the class weights\n",
    ")\n",
    "\n",
    "\n",
    "\n",
    "# Verify shapes before training\n",
    "for data, labels in train_generator:\n",
    "    print(data.shape)  # Should be (batch_size, 150, 150, 3)\n",
    "    print(labels.shape)  # Should be (batch_size, 3)\n",
    "    break  # Check only the first batch"
   ]
  },
  {
   "cell_type": "code",
   "execution_count": 83,
   "id": "fd370a58-4524-408b-893b-77c6eb442b50",
   "metadata": {},
   "outputs": [
    {
     "name": "stderr",
     "output_type": "stream",
     "text": [
      "C:\\Users\\Kavana K\\anaconda3\\envs\\myenv\\lib\\site-packages\\keras\\src\\engine\\training.py:3000: UserWarning: You are saving your model as an HDF5 file via `model.save()`. This file format is considered legacy. We recommend using instead the native Keras format, e.g. `model.save('my_model.keras')`.\n",
      "  saving_api.save_model(\n"
     ]
    }
   ],
   "source": [
    "# Import necessary libraries\n",
    "from tensorflow.keras.models import load_model\n",
    "\n",
    "# Save the model as an HDF5 file\n",
    "model.save('medical_model.h5')  # Save the model in HDF5 format\n"
   ]
  },
  {
   "cell_type": "code",
   "execution_count": 84,
   "id": "f278850b-5334-4c3a-bf61-10afe7977db9",
   "metadata": {},
   "outputs": [],
   "source": [
    "import pickle\n",
    "\n",
    "# Save model architecture and weights separately\n",
    "model_json = model.to_json()  # Get model architecture\n",
    "with open(\"medical_model.json\", \"w\") as json_file:\n",
    "    json_file.write(model_json)\n",
    "\n",
    "# Save weights\n",
    "model.save_weights(\"medical_model_weights.h5\")\n",
    "\n",
    "# Save to a .pkl file\n",
    "with open('medical_model.pkl', 'wb') as pkl_file:\n",
    "    pickle.dump({'model_json': model_json, 'model_weights': 'medical_model_weights.h5'}, pkl_file)\n"
   ]
  },
  {
   "cell_type": "code",
   "execution_count": 87,
   "id": "9f17c84f-e58e-4a52-8995-bb6cebad59d1",
   "metadata": {},
   "outputs": [
    {
     "name": "stdout",
     "output_type": "stream",
     "text": [
      "Found 145 images belonging to 3 classes.\n",
      "5/5 [==============================] - 8s 2s/step\n",
      "[[ 0 35  0]\n",
      " [ 0 49  0]\n",
      " [ 0 61  0]]\n",
      "                precision    recall  f1-score   support\n",
      "\n",
      "      IR Patch       0.00      0.00      0.00        35\n",
      "Negative Patch       0.34      1.00      0.51        49\n",
      "Positive Patch       0.00      0.00      0.00        61\n",
      "\n",
      "      accuracy                           0.34       145\n",
      "     macro avg       0.11      0.33      0.17       145\n",
      "  weighted avg       0.11      0.34      0.17       145\n",
      "\n"
     ]
    },
    {
     "name": "stderr",
     "output_type": "stream",
     "text": [
      "C:\\Users\\Kavana K\\anaconda3\\envs\\myenv\\lib\\site-packages\\sklearn\\metrics\\_classification.py:1471: UndefinedMetricWarning: Precision and F-score are ill-defined and being set to 0.0 in labels with no predicted samples. Use `zero_division` parameter to control this behavior.\n",
      "  _warn_prf(average, modifier, msg_start, len(result))\n",
      "C:\\Users\\Kavana K\\anaconda3\\envs\\myenv\\lib\\site-packages\\sklearn\\metrics\\_classification.py:1471: UndefinedMetricWarning: Precision and F-score are ill-defined and being set to 0.0 in labels with no predicted samples. Use `zero_division` parameter to control this behavior.\n",
      "  _warn_prf(average, modifier, msg_start, len(result))\n",
      "C:\\Users\\Kavana K\\anaconda3\\envs\\myenv\\lib\\site-packages\\sklearn\\metrics\\_classification.py:1471: UndefinedMetricWarning: Precision and F-score are ill-defined and being set to 0.0 in labels with no predicted samples. Use `zero_division` parameter to control this behavior.\n",
      "  _warn_prf(average, modifier, msg_start, len(result))\n"
     ]
    },
    {
     "data": {
      "image/png": "[encoded data removed]",
      "text/plain": [
       "<Figure size 1000x700 with 2 Axes>"
      ]
     },
     "metadata": {},
     "output_type": "display_data"
    }
   ],
   "source": [
    "from sklearn.metrics import confusion_matrix, classification_report\n",
    "import seaborn as sns\n",
    "\n",
    "# Assuming you have test data and true labels\n",
    "test_data_generator = val_datagen.flow_from_directory(\n",
    "    train_dir,\n",
    "    target_size=(IMG_HEIGHT, IMG_WIDTH),\n",
    "    batch_size=BATCH_SIZE,\n",
    "    class_mode='categorical',\n",
    "    shuffle=False  # Important for confusion matrix\n",
    ")\n",
    "class_mapping = {\n",
    "    0: 'IR Patch',\n",
    "    1: 'Negative Patch',\n",
    "    2: 'Positive Patch'\n",
    "}\n",
    "\n",
    "# Get predictions\n",
    "y_pred = model.predict(test_data_generator)\n",
    "y_pred_classes = np.argmax(y_pred, axis=1)\n",
    "\n",
    "# True labels\n",
    "y_true = test_data_generator.classes\n",
    "\n",
    "# Confusion matrix\n",
    "cm = confusion_matrix(y_true, y_pred_classes)\n",
    "print(cm)\n",
    "\n",
    "# Classification report\n",
    "print(classification_report(y_true, y_pred_classes, target_names=class_mapping.values()))\n",
    "\n",
    "# Visualize confusion matrix\n",
    "plt.figure(figsize=(10, 7))\n",
    "sns.heatmap(cm, annot=True, fmt='d', cmap='Blues', xticklabels=class_mapping.values(), yticklabels=class_mapping.values())\n",
    "plt.ylabel('Actual')\n",
    "plt.xlabel('Predicted')\n",
    "plt.title('Confusion Matrix')\n",
    "plt.show()\n"
   ]
  },
  {
   "cell_type": "code",
   "execution_count": null,
   "id": "1112121c-ec02-44e7-8251-69ff23a6d613",
   "metadata": {},
   "outputs": [],
   "source": []
  },
  {
   "cell_type": "code",
   "execution_count": null,
   "id": "396eb55e-9621-4313-bd55-ec0c42950442",
   "metadata": {},
   "outputs": [],
   "source": []
  },
  {
   "cell_type": "code",
   "execution_count": null,
   "id": "b0bf82c1-55d2-44d5-8430-724f90759e67",
   "metadata": {},
   "outputs": [],
   "source": []
  }
 ],
 "metadata": {
  "kernelspec": {
   "display_name": "Python (myenv)",
   "language": "python",
   "name": "myenv"
  },
  "language_info": {
   "codemirror_mode": {
    "name": "ipython",
    "version": 3
   },
   "file_extension": ".py",
   "mimetype": "text/x-python",
   "name": "python",
   "nbconvert_exporter": "python",
   "pygments_lexer": "ipython3",
   "version": "3.8.19"
  }
 },
 "nbformat": 4,
 "nbformat_minor": 5
}
